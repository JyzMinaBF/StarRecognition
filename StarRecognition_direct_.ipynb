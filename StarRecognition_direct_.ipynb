{
  "nbformat": 4,
  "nbformat_minor": 0,
  "metadata": {
    "colab": {
      "provenance": [],
      "toc_visible": true,
      "include_colab_link": true
    },
    "kernelspec": {
      "name": "python3",
      "display_name": "Python 3"
    },
    "language_info": {
      "name": "python"
    }
  },
  "cells": [
    {
      "cell_type": "markdown",
      "metadata": {
        "id": "view-in-github",
        "colab_type": "text"
      },
      "source": [
        "<a href=\"https://colab.research.google.com/github/JyzMinaBF/StarRecognition/blob/main/StarRecognition_direct_.ipynb\" target=\"_parent\"><img src=\"https://colab.research.google.com/assets/colab-badge.svg\" alt=\"Open In Colab\"/></a>"
      ]
    },
    {
      "cell_type": "code",
      "metadata": {
        "id": "vgqLDK0J5Lh4"
      },
      "source": [
        "%matplotlib inline\n",
        "\n",
        "import numpy as np\n",
        "import pandas as pd\n",
        "import matplotlib.pyplot as plt\n",
        "import os"
      ],
      "execution_count": null,
      "outputs": []
    },
    {
      "cell_type": "code",
      "source": [
        "from tensorflow.keras.preprocessing.image import load_img, img_to_array\n",
        "from tensorflow.keras.utils import to_categorical\n",
        "from tensorflow.keras.applications import ResNet50V2\n",
        "from tensorflow.keras.applications.resnet_v2 import preprocess_input\n",
        "from tensorflow.keras.models import Sequential\n",
        "from tensorflow.keras.layers import Dense"
      ],
      "metadata": {
        "id": "xi7FwyUhNLbD"
      },
      "execution_count": null,
      "outputs": []
    },
    {
      "cell_type": "markdown",
      "metadata": {
        "id": "18zhlEJj5tLV"
      },
      "source": [
        "### 1. 讀入明星資料圖檔\n",
        "\n",
        "這裡把在 GitHub 上 的明星照片集讀進來。"
      ]
    },
    {
      "cell_type": "code",
      "source": [
        "from google.colab import drive\n",
        "drive.mount('/content/drive')"
      ],
      "metadata": {
        "colab": {
          "base_uri": "https://localhost:8080/"
        },
        "id": "xdEiF53eFkyI",
        "outputId": "eb9dd4a5-a651-4590-8593-35477f766794"
      },
      "execution_count": null,
      "outputs": [
        {
          "output_type": "stream",
          "name": "stdout",
          "text": [
            "Drive already mounted at /content/drive; to attempt to forcibly remount, call drive.mount(\"/content/drive\", force_remount=True).\n"
          ]
        }
      ]
    },
    {
      "cell_type": "code",
      "metadata": {
        "id": "F-YK6E8O519-"
      },
      "source": [
        "!wget --no-check-certificate \\\n",
        "    https://github.com/JyzMinaBF/StarRecognition/raw/main/CAI,YI-LIN.zip \\\n",
        "    -O /content/CAI,YI-LIN.zip\n",
        "!wget --no-check-certificate \\\n",
        "    https://github.com/JyzMinaBF/StarRecognition/raw/main/CHEN,JING-SYUAN.zip \\\n",
        "    -O /content/CHEN,JING-SYUAN.zip\n",
        "!wget --no-check-certificate \\\n",
        "    https://github.com/JyzMinaBF/StarRecognition/raw/main/GUO,SYUE-FU.zip \\\n",
        "    -O /content/GUO,SYUE-FU.zip\n",
        "!wget --no-check-certificate \\\n",
        "    https://github.com/JyzMinaBF/StarRecognition/raw/main/LIN,JHIH-LING.zip \\\n",
        "    -O /content/LIN,JHIH-LING.zip\n",
        "!wget --no-check-certificate \\\n",
        "    https://github.com/JyzMinaBF/StarRecognition/raw/main/LIN,SIN-RU.zip \\\n",
        "    -O /content/LIN,SIN-RU.zip\n",
        "!wget --no-check-certificate \\\n",
        "    https://github.com/JyzMinaBF/StarRecognition/raw/main/LIN,SIN-RU2.zip \\\n",
        "    -O /content/LIN,SIN-RU2.zip\n",
        "!wget --no-check-certificate \\\n",
        "    https://github.com/JyzMinaBF/StarRecognition/raw/main/LIN,YI-CHEN.zip \\\n",
        "    -O /content/LIN,YI-CHEN.zip\n",
        "!wget --no-check-certificate \\\n",
        "    https://github.com/JyzMinaBF/StarRecognition/raw/main/SHAO,YU-WEI.zip \\\n",
        "    -O /content/SHAO,YU-WEI.zip\n",
        "!wget --no-check-certificate \\\n",
        "    https://github.com/JyzMinaBF/StarRecognition/raw/main/SYU,RUO-SYUAN.zip \\\n",
        "    -O /content/SYU,RUO-SYUAN.zip\n",
        "!wget --no-check-certificate \\\n",
        "    https://github.com/JyzMinaBF/StarRecognition/raw/main/SYU,SI-DI.zip \\\n",
        "    -O /content/SYU,SI-DI.zip\n",
        "!wget --no-check-certificate \\\n",
        "    https://github.com/JyzMinaBF/StarRecognition/raw/main/YANG,CHENG-LIN.zip \\\n",
        "    -O /content/YANG,CHENG-LIN.zip"
      ],
      "execution_count": null,
      "outputs": []
    },
    {
      "cell_type": "code",
      "source": [
        "star_folders = ['CAI,YI-LIN', 'CHEN,JING-SYUAN', 'GUO,SYUE-FU','LIN,JHIH-LING','LIN,SIN-RU','LIN,YI-CHEN','SHAO,YU-WEI','SYU,RUO-SYUAN','SYU,SI-DI','YANG,CHENG-LIN']"
      ],
      "metadata": {
        "id": "KKnZtpQA35iO"
      },
      "execution_count": null,
      "outputs": []
    },
    {
      "cell_type": "code",
      "metadata": {
        "id": "hjZ5xdRV57Ia"
      },
      "source": [
        "# import os\n",
        "# import zipfile\n",
        "\n",
        "# for i in range(11):\n",
        "#   local_zip = '/content/'+str(star_folders[i])+'.zip'\n",
        "#   zip_ref = zipfile.ZipFile(local_zip, 'r')\n",
        "#   zip_ref.extractall('/content')\n",
        "#   zip_ref.close()"
      ],
      "execution_count": null,
      "outputs": []
    },
    {
      "cell_type": "markdown",
      "source": [
        "####可以先捕捉臉部特寫"
      ],
      "metadata": {
        "id": "z4R7QoMmx83W"
      }
    },
    {
      "cell_type": "code",
      "source": [
        "# from tensorflow.keras.preprocessing.image import load_img, img_to_array\n",
        "# import matplotlib.pyplot as plt\n",
        "# import os\n",
        "# base_dir = '/content/'\n",
        "# notebook_dir = '/content/drive/MyDrive/Colab Notebooks/'\n",
        "# star_folders = ['CAI,YI-LIN', 'CHEN,JING-SYUAN', 'GUO,SYUE-FU','LIN,JHIH-LING','LIN,SIN-RU','LIN,YI-CHEN','SHAO,YU-WEI','SYU,RUO-SYUAN','SYU,SI-DI','YANG,CHENG-LIN']\n",
        "# star_folders_capture = ['CAI,YI-LIN_capture', 'CHEN,JING-SYUAN_capture', 'GUO,SYUE-FU_capture','LIN,JHIH-LING_capture','LIN,SIN-RU_capture',\n",
        "#                            'LIN,YI-CHEN_capture','SHAO,YU-WEI_capture','SYU,RUO-SYUAN_capture','SYU,SI-DI_capture','YANG,CHENG-LIN_capture']\n",
        "\n",
        "# for i in range(11):\n",
        "#   count = int(1)\n",
        "#   thedir = base_dir + star_folders[i]\n",
        "#   savedir = notebook_dir + star_folders_capture[i]\n",
        "#   star_fnames = os.listdir(thedir)\n",
        "#   for star in star_fnames:\n",
        "#     if star==\".DS_Store\":\n",
        "#       continue\n",
        "#     img_path = thedir + '/' + star\n",
        "#     save_path = savedir + '/' + str(star_folders[i]) + str(count) + '.jpg'\n",
        "#     faces = RetinaFace.extract_faces(img_path = img_path, align = True)\n",
        "#     for face in faces:\n",
        "#       plt.axis('off')\n",
        "#       plt.imshow(face)\n",
        "#       plt.imsave(save_path, face,  format='jpg')\n",
        "#       count += 1\n",
        ""
      ],
      "metadata": {
        "id": "slJAGlP7x7T2"
      },
      "execution_count": null,
      "outputs": []
    },
    {
      "cell_type": "markdown",
      "source": [
        "大家在處理照片時，常會想，要怎麼標記呢? 其實可以像這樣子: 有十個類別, 就用十個資料夾存, 每個資料夾裡的照片讀出來, 就用 0, 1, 2 ,...,10來標記!"
      ],
      "metadata": {
        "id": "SmgItJYm6plV"
      }
    },
    {
      "cell_type": "markdown",
      "metadata": {
        "id": "HQtbtlY9QYQZ"
      },
      "source": [
        "# 2. 把明星的照片轉成訓練資料\n"
      ]
    },
    {
      "cell_type": "code",
      "metadata": {
        "id": "Tj9tC2Wm68_f"
      },
      "source": [
        "base_dir = '/content/drive/MyDrive/StarRecognition/'"
      ],
      "execution_count": null,
      "outputs": []
    },
    {
      "cell_type": "markdown",
      "source": [
        "我們可以列出在某個資料夾的檔名!"
      ],
      "metadata": {
        "id": "Ktnd8WE2Loqw"
      }
    },
    {
      "cell_type": "code",
      "source": [
        "thedir = base_dir + star_folders[0]\n",
        "os.listdir(thedir)"
      ],
      "metadata": {
        "id": "CUsCELpoLzAm",
        "colab": {
          "base_uri": "https://localhost:8080/"
        },
        "outputId": "c8d5365a-09d0-450b-a0b9-89b5c317d8e1"
      },
      "execution_count": null,
      "outputs": [
        {
          "output_type": "execute_result",
          "data": {
            "text/plain": [
              "['22bc6dc11ed054513c10ea4d67b39073.jpeg',\n",
              " '3903588_1.jpeg',\n",
              " '20220501002969.jpeg',\n",
              " '20201217001601.jpeg',\n",
              " '3472463_1.jpeg',\n",
              " '20190304160702-e1b22eec7a81c14d6d7370b0189de756-mobile.jpeg',\n",
              " '556.jpeg',\n",
              " 'down.jpeg',\n",
              " 'down (1).jpeg',\n",
              " 'f7f8c054fcac7e798b62e0ddadd35cb8.jpeg',\n",
              " '800x_100_w-5c347825b232c.jpeg',\n",
              " '20220412001410.jpeg',\n",
              " '60892ffbc2807.jpeg',\n",
              " '1634721243738-f28a2c745250455e8c81f4669bc2f09e-300x450.jpeg',\n",
              " 'd4623847.jpeg',\n",
              " '1901141123131470-450x299.jpeg',\n",
              " 'C1458030224554.jpeg',\n",
              " '1910231136101470-450x300.jpeg',\n",
              " '2008TaipeiGameShow_Day3_IGS_JolinTsai_with_WeDancingOnline_theme.jpeg',\n",
              " 'article-626666396ae01.jpeg',\n",
              " '20211020200915-93839502d9140fdafe18c379622c0789-tablet.jpeg',\n",
              " 'mPwxjGYSvqYiSROhWRQhmuLsIE1L8JXIkf5bqENZ.jpeg',\n",
              " '0417-1140-2.jpg_1140x855.jpg',\n",
              " '20190630-120011_U12879_M532242_5d6e.jpeg',\n",
              " '81a3a40b-363a-42e5-83f1-6fc4f7b9e1c8.jpeg',\n",
              " '202201082068162_l.jpeg',\n",
              " '3579422-PH.jpeg',\n",
              " '1600227389740-6779e8a0d8d04695abd652dc6ed8ac2f-800x1200.jpeg',\n",
              " '1912170425141487-450x300.jpeg',\n",
              " '150525100033_cn_jolin_tsai_976x549_afp.jpeg',\n",
              " '800x_100_w-5c21d8c3c7002.jpeg',\n",
              " '12eec4761fc625ee975e9dbb908d2919.jpeg',\n",
              " '20210303001718.jpeg',\n",
              " 'NojHl6Jn7CskzwPCDslzYaIOqqeEAzAqZ8J6BslBvzfF8NpsmgpUj1K740DTn8mskKClYmq5q2GHAPPkQ45l2Fiq4yq.jpeg',\n",
              " 'images.jpeg',\n",
              " 'C1458033498404.jpeg',\n",
              " 'e04fba9dce0897028d79b0e549af86c9.jpeg',\n",
              " '20220328195201-f34f3df6845c7c61483329e2016bed93-tablet.jpeg',\n",
              " 'phpjKzk0T.jpeg',\n",
              " '2000x1330_0262711242280.jpeg',\n",
              " '6087433.jpeg',\n",
              " '55238862-f27f-4f15-b84e-d6b8c7ac7450.jpeg',\n",
              " '20210607111224-5becd966.jpeg',\n",
              " '20200923182748711999-xl.jpeg',\n",
              " 'wZwpmL0MTLzETL4UTLxETLyEzLxAzLyEjNxAjMvYHduEnap5SZnFWbp9yL6MHc0RHa.jpeg',\n",
              " 'images (1).jpeg',\n",
              " 'FQYmwAkaUAUV3tc.jpeg',\n",
              " 'puma-wild-rider-classic-fashion-jolin-tsai-2-scaled.jpeg',\n",
              " '1-39.jpeg',\n",
              " '8351-201812271342148114.jpeg',\n",
              " 'images (2).jpeg',\n",
              " '20200902400641.jpeg',\n",
              " 'down (2).jpeg',\n",
              " '2015090716393.jpeg',\n",
              " 'eca9ec835f7371b664a277f8362b1c4a.jpeg',\n",
              " 'FQdAH9uVcAAayN8.jpeg',\n",
              " 'f551ca967d8a25f71d18d2ffb088edd6.jpeg',\n",
              " '300x300.jpeg',\n",
              " 'images (3).jpeg',\n",
              " '1910230442512122-450x548.jpeg',\n",
              " 'Fzle58rYf16pW6LknHFlvyxVE0x7TSCYAqNumQ3e.jpeg',\n",
              " 's_s_0021da5a-fa85-4e27-ac3d-e21f2f15b807.jpeg',\n",
              " 'f0767161f44e3a80e2cbfe4cc4404b56.jpeg',\n",
              " 'wnep028p01a.jpeg',\n",
              " '3254158-PH.jpeg',\n",
              " 'images (4).jpeg',\n",
              " '20211021002665.jpeg',\n",
              " '20210917091659807.jpeg',\n",
              " '96327d32ee2f117854fe9df7321172a9.jpeg',\n",
              " 'aba32f0e-3ac8-4cde-9416-820e063c3e3e.jpeg',\n",
              " '80407-124678-image_banner.jpeg',\n",
              " '2019061250316533.jpeg',\n",
              " 'ab67706f00000003c8b57c4285f475f0a809aea0.jpeg',\n",
              " 'down (3).jpeg',\n",
              " '3756358_1.jpeg',\n",
              " '20220328195208-bd1a664f87809f42327fd39c71c05f04-mobile.jpeg',\n",
              " 'w580.jpeg',\n",
              " 'c519021d07ee7ac202b5d5854c25dad0.jpeg',\n",
              " 'prison.jpeg',\n",
              " 'b2aeefdb30594d7702a53b2c0fc7a65bafdf843b.jpeg',\n",
              " 'ab.jpeg',\n",
              " 'md-c1a64f3ddd9bf20d59333e65431b1b4e.jpeg',\n",
              " 'd390673a-c3ab-47e3-802d-3f06fe9dbe54.jpeg',\n",
              " 'images (5).jpeg',\n",
              " 'images (6).jpeg',\n",
              " '1644625703251-5c3d782e2b4c41ecbacb8a3f94a62792-729x854.jpeg',\n",
              " '3726005_1.jpeg',\n",
              " 'images (7).jpeg',\n",
              " 'maxresdefault.jpeg',\n",
              " 'e4184853.jpeg',\n",
              " 'Lh211103171420296397.jpeg',\n",
              " 'Dh211103171158870654.jpeg',\n",
              " '165066409762616_P14478503.jpeg',\n",
              " 'images (8).jpeg',\n",
              " '1071x768_20210424000147.jpeg',\n",
              " 'md-bf302902b2c43f729bbdfb98a4d78891.jpeg',\n",
              " 'down (4).jpeg',\n",
              " '85-aROfdKFz2JTI2WhWwyQM4_LUzdGCZeQRnaXkEZ2k.jpeg',\n",
              " 'puma-wild-rider-classic-fashion-jolin-tsai-4.jpeg',\n",
              " 'images (9).jpeg',\n",
              " '2c14a.jpeg',\n",
              " '45b32.jpeg',\n",
              " 'def66.jpeg',\n",
              " '8f158.jpeg',\n",
              " '7eb24.jpeg',\n",
              " '0bb9d.jpeg',\n",
              " 'b137e.jpeg',\n",
              " 'fe746.jpeg',\n",
              " '799d6.jpeg',\n",
              " 'bd6aa.jpeg',\n",
              " 'cec0d.jpeg',\n",
              " '40682.jpeg',\n",
              " 'eaa91.jpeg',\n",
              " '9917a.jpeg',\n",
              " '5034d.jpeg',\n",
              " 'f3fe2.jpeg',\n",
              " '3a64d.jpeg',\n",
              " '8dade.jpeg',\n",
              " '330a4.jpeg',\n",
              " '8f3b1.jpeg',\n",
              " '2da5b.jpeg',\n",
              " 'c76c9.jpeg',\n",
              " 'cf029.jpeg',\n",
              " '3c3bc.jpeg',\n",
              " '557b3.jpeg',\n",
              " '0e5c6.jpeg',\n",
              " '17b4b.jpeg',\n",
              " '5bc42.jpeg',\n",
              " 'efe69.jpeg',\n",
              " '8f5a6.jpeg',\n",
              " 'ee148.jpeg',\n",
              " '9debb.jpeg',\n",
              " '7c97c.jpeg',\n",
              " 'bdd2b.jpeg',\n",
              " '375a2.jpeg',\n",
              " '25a4c.jpeg',\n",
              " '9876d.jpeg',\n",
              " '7e74a.jpeg',\n",
              " '52af3.jpeg',\n",
              " '791a9.jpeg',\n",
              " '703f1.jpeg',\n",
              " '4b2ac.jpeg',\n",
              " '56e51.jpeg',\n",
              " 'd06c8.jpeg',\n",
              " '20000.jpeg',\n",
              " 'd3a1a.jpeg',\n",
              " '71c7f.jpeg',\n",
              " '53fc4.jpeg',\n",
              " '81e75.jpeg',\n",
              " '65d5d.jpeg',\n",
              " 'e1057.jpeg',\n",
              " 'e71f3.jpeg',\n",
              " '85375.jpeg',\n",
              " '0a563.jpeg',\n",
              " 'f2393.jpeg',\n",
              " '99886.jpeg',\n",
              " 'caiyilin908561.jpg.wpcon.mw_1000,qt_80.9c3e75.jpg.jpg',\n",
              " 'caiyilin908552.jpg.wpcon.mw_1000,qt_80.9c3e75.jpg.jpg',\n",
              " 'caiyilin908550.jpg.wpcon.mw_1000,qt_80.9c3e75.jpg.jpg',\n",
              " 'caiyilin908555.jpg.wpcon.mw_1000,qt_80.9c3e75.jpg.jpg',\n",
              " 'caiyilin908551.jpg.wpcon.mw_1000,qt_80.9c3e75.jpg.jpg',\n",
              " 'caiyilin908569.jpg.wpcon.mw_1000,qt_80.9c3e75.jpg.jpg',\n",
              " 'caiyilin908562.jpg.wpcon.mw_1000,qt_80.9c3e75.jpg.jpg',\n",
              " 'caiyilin908576.jpg.wpcon.mw_1000,qt_80.9c3e75.jpg.jpg',\n",
              " 'caiyilin908566.jpg.wpcon.mw_1000,qt_80.9c3e75.jpg.jpg',\n",
              " 'caiyilin908568.jpg.wpcon.mw_1000,qt_80.9c3e75.jpg.jpg',\n",
              " 'caiyilin908578.jpg.wpcon.mw_1000,qt_80.9c3e75.jpg.jpg',\n",
              " 'caiyilin908563.jpg.wpcon.mw_1000,qt_80.9c3e75.jpg.jpg',\n",
              " 'caiyilin908573.jpg.wpcon.mw_1000,qt_80.9c3e75.jpg.jpg',\n",
              " 'caiyilin908604.jpg.wpcon.mw_1000,qt_80.9c3e75.jpg.jpg',\n",
              " 'caiyilin908585.jpg.wpcon.mw_1000,qt_80.9c3e75.jpg.jpg',\n",
              " 'caiyilin908581.jpg.wpcon.mw_1000,qt_80.9c3e75.jpg.jpg',\n",
              " 'caiyilin908583.jpg.wpcon.mw_1000,qt_80.9c3e75.jpg.jpg',\n",
              " 'caiyilin908601.jpg.wpcon.mw_1000,qt_80.9c3e75.jpg.jpg',\n",
              " 'caiyilin908600.jpg.wpcon.mw_1000,qt_80.9c3e75.jpg.jpg',\n",
              " 'caiyilin908587.jpg.wpcon.mw_1000,qt_80.9c3e75.jpg.jpg',\n",
              " 'caiyilin908584.jpg.wpcon.mw_1000,qt_80.9c3e75.jpg.jpg',\n",
              " 'caiyilin908605.jpg.wpcon.mw_1000,qt_80.9c3e75.jpg.jpg',\n",
              " 'caiyilin908613.jpg.wpcon.mw_1000,qt_80.9c3e75.jpg.jpg',\n",
              " 'caiyilin908616.jpg.wpcon.mw_1000,qt_80.9c3e75.jpg.jpg',\n",
              " 'caiyilin908612.jpg.wpcon.mw_1000,qt_80.9c3e75.jpg.jpg',\n",
              " 'caiyilin908617.jpg.wpcon.mw_1000,qt_80.9c3e75.jpg.jpg',\n",
              " 'caiyilin908615.jpg.wpcon.mw_1000,qt_80.9c3e75.jpg.jpg',\n",
              " 'caiyilin908607.jpg.wpcon.mw_1000,qt_80.9c3e75.jpg.jpg',\n",
              " 'caiyilin908614.jpg.wpcon.mw_1000,qt_80.9c3e75.jpg.jpg',\n",
              " 'caiyilin908609.jpg.wpcon.mw_1000,qt_80.9c3e75.jpg.jpg',\n",
              " 'caiyilin908628.jpg.wpcon.mw_1000,qt_80.9c3e75.jpg.jpg',\n",
              " 'caiyilin908618.jpg.wpcon.mw_1000,qt_80.9c3e75.jpg.jpg',\n",
              " 'caiyilin908625.jpg.wpcon.mw_1000,qt_80.9c3e75.jpg.jpg',\n",
              " 'caiyilin908629.jpg.wpcon.mw_1000,qt_80.9c3e75.jpg.jpg',\n",
              " 'caiyilin908623.jpg.wpcon.mw_1000,qt_80.9c3e75.jpg.jpg',\n",
              " 'caiyilin908646.jpg.wpcon.mw_1000,qt_80.9c3e75.jpg.jpg',\n",
              " 'caiyilin908639.jpg.wpcon.mw_1000,qt_80.9c3e75.jpg.jpg',\n",
              " 'caiyilin908649.jpg.wpcon.mw_1000,qt_80.9c3e75.jpg.jpg',\n",
              " 'caiyilin908633.jpg.wpcon.mw_1000,qt_80.9c3e75.jpg.jpg',\n",
              " 'caiyilin908650.jpg.wpcon.mw_1000,qt_80.9c3e75.jpg.jpg',\n",
              " 'caiyilin908631.jpg.wpcon.mw_1000,qt_80.9c3e75.jpg.jpg',\n",
              " 'caiyilin908651.jpg.wpcon.mw_1000,qt_80.9c3e75.jpg.jpg',\n",
              " 'caiyilin908634.jpg.wpcon.mw_1000,qt_80.9c3e75.jpg.jpg',\n",
              " 'caiyilin908652.jpg.wpcon.mw_1000,qt_80.9c3e75.jpg.jpg',\n",
              " 'caiyilin908640.jpg.wpcon.mw_1000,qt_80.9c3e75.jpg.jpg',\n",
              " 'caiyilin908654.jpg.wpcon.mw_1000,qt_80.9c3e75.jpg.jpg',\n",
              " 'caiyilin908666.jpg.wpcon.mw_1000,qt_80.9c3e75.jpg.jpg',\n",
              " 'caiyilin908660.jpg.wpcon.mw_1000,qt_80.9c3e75.jpg.jpg',\n",
              " 'caiyilin908665.jpg.wpcon.mw_1000,qt_80.9c3e75.jpg.jpg',\n",
              " 'caiyilin908659.jpg.wpcon.mw_1000,qt_80.9c3e75.jpg.jpg',\n",
              " 'caiyilin908661.jpg.wpcon.mw_1000,qt_80.9c3e75.jpg.jpg',\n",
              " 'caiyilin908690.jpg.wpcon.mw_1000,qt_80.9c3e75.jpg.jpg',\n",
              " 'caiyilin908684.jpg.wpcon.mw_1000,qt_80.9c3e75.jpg.jpg',\n",
              " 'caiyilin908670.jpg.wpcon.mw_1000,qt_80.9c3e75.jpg.jpg',\n",
              " 'caiyilin908695.jpg.wpcon.mw_1000,qt_80.9c3e75.jpg.jpg',\n",
              " 'caiyilin908693.jpg.wpcon.mw_1000,qt_80.9c3e75.jpg.jpg',\n",
              " 'caiyilin908671.jpg.wpcon.mw_1000,qt_80.9c3e75.jpg.jpg',\n",
              " 'caiyilin908679.jpg.wpcon.mw_1000,qt_80.9c3e75.jpg.jpg',\n",
              " 'caiyilin908669.jpg.wpcon.mw_1000,qt_80.9c3e75.jpg.jpg',\n",
              " 'caiyilin908696.jpg.wpcon.mw_1000,qt_80.9c3e75.jpg.jpg',\n",
              " 'caiyilin908709.jpg.wpcon.mw_1000,qt_80.9c3e75.jpg.jpg',\n",
              " 'caiyilin908699.jpg.wpcon.mw_1000,qt_80.9c3e75.jpg.jpg',\n",
              " 'caiyilin908697.jpg.wpcon.mw_1000,qt_80.9c3e75.jpg.jpg',\n",
              " 'caiyilin908698.jpg.wpcon.mw_1000,qt_80.9c3e75.jpg.jpg',\n",
              " 'caiyilin908713.jpg.wpcon.mw_1000,qt_80.9c3e75.jpg.jpg',\n",
              " 'caiyilin908715.jpg.wpcon.mw_1000,qt_80.9c3e75.jpg.jpg',\n",
              " 'caiyilin908712.jpg.wpcon.mw_1000,qt_80.9c3e75.jpg.jpg',\n",
              " 'caiyilin908716.jpg.wpcon.mw_1000,qt_80.9c3e75.jpg.jpg',\n",
              " 'caiyilin908717.jpg.wpcon.mw_1000,qt_80.9c3e75.jpg.jpg',\n",
              " 'caiyilin908714.jpg.wpcon.mw_1000,qt_80.9c3e75.jpg.jpg',\n",
              " 'caiyilin908760.jpg.wpcon.mw_1000,qt_80.9c3e75.jpg.jpg',\n",
              " 'caiyilin908757.jpg.wpcon.mw_1000,qt_80.9c3e75.jpg.jpg',\n",
              " 'caiyilin908722.jpg.wpcon.mw_1000,qt_80.9c3e75.jpg.jpg',\n",
              " 'caiyilin908747.jpg.wpcon.mw_1000,qt_80.9c3e75.jpg.jpg',\n",
              " 'caiyilin908759.jpg.wpcon.mw_1000,qt_80.9c3e75.jpg.jpg',\n",
              " 'caiyilin908723.jpg.wpcon.mw_1000,qt_80.9c3e75.jpg.jpg',\n",
              " 'caiyilin908763.jpg.wpcon.mw_1000,qt_80.9c3e75.jpg.jpg',\n",
              " 'caiyilin908764.jpg.wpcon.mw_1000,qt_80.9c3e75.jpg.jpg',\n",
              " 'caiyilin908762.jpg.wpcon.mw_1000,qt_80.9c3e75.jpg.jpg',\n",
              " 'caiyilin908766.jpg.wpcon.mw_1000,qt_80.9c3e75.jpg.jpg',\n",
              " 'caiyilin908765.jpg.wpcon.mw_1000,qt_80.9c3e75.jpg.jpg',\n",
              " 'caiyilin908761.jpg.wpcon.mw_1000,qt_80.9c3e75.jpg.jpg',\n",
              " 'caiyilin908770.jpg.wpcon.mw_1000,qt_80.9c3e75.jpg.jpg',\n",
              " 'caiyilin908767.jpg.wpcon.mw_1000,qt_80.9c3e75.jpg.jpg',\n",
              " 'caiyilin908771.jpg.wpcon.mw_1000,qt_80.9c3e75.jpg.jpg',\n",
              " 'caiyilin908772.jpg.wpcon.mw_1000,qt_80.9c3e75.jpg.jpg',\n",
              " 'caiyilin908768.jpg.wpcon.mw_1000,qt_80.9c3e75.jpg.jpg',\n",
              " 'caiyilin908769.jpg.wpcon.mw_1000,qt_80.9c3e75.jpg.jpg',\n",
              " 'caiyilin908773.jpg.wpcon.mw_1000,qt_80.9c3e75.jpg.jpg',\n",
              " 'caiyilin908774.jpg.wpcon.mw_1000,qt_80.9c3e75.jpg.jpg',\n",
              " 'caiyilin908775.jpg.wpcon.mw_1000,qt_80.9c3e75.jpg.jpg',\n",
              " 'caiyilin908776.jpg.wpcon.mw_1000,qt_80.9c3e75.jpg.jpg',\n",
              " 'caiyilin908781.jpg.wpcon.mw_1000,qt_80.9c3e75.jpg.jpg',\n",
              " 'caiyilin908783.jpg.wpcon.mw_1000,qt_80.9c3e75.jpg.jpg',\n",
              " 'caiyilin908782.jpg.wpcon.mw_1000,qt_80.9c3e75.jpg.jpg',\n",
              " 'caiyilin908780.jpg.wpcon.mw_1000,qt_80.9c3e75.jpg.jpg',\n",
              " 'caiyilin908777.jpg.wpcon.mw_1000,qt_80.9c3e75.jpg.jpg',\n",
              " 'caiyilin908779.jpg.wpcon.mw_1000,qt_80.9c3e75.jpg.jpg',\n",
              " 'caiyilin908778.jpg.wpcon.mw_1000,qt_80.9c3e75.jpg.jpg',\n",
              " 'caiyilin908787.jpg.wpcon.mw_1000,qt_80.9c3e75.jpg.jpg',\n",
              " 'caiyilin908784.jpg.wpcon.mw_1000,qt_80.9c3e75.jpg.jpg',\n",
              " 'caiyilin908790.jpg.wpcon.mw_1000,qt_80.9c3e75.jpg.jpg',\n",
              " 'caiyilin908788.jpg.wpcon.mw_1000,qt_80.9c3e75.jpg.jpg',\n",
              " 'caiyilin908789.jpg.wpcon.mw_1000,qt_80.9c3e75.jpg.jpg',\n",
              " 'caiyilin908786.jpg.wpcon.mw_1000,qt_80.9c3e75.jpg.jpg',\n",
              " 'caiyilin908785.jpg.wpcon.mw_1000,qt_80.9c3e75.jpg.jpg',\n",
              " 'caiyilin908795.jpg.wpcon.mw_1000,qt_80.9c3e75.jpg.jpg',\n",
              " 'caiyilin908801.jpg.wpcon.mw_1000,qt_80.9c3e75.jpg.jpg',\n",
              " 'caiyilin908798.jpg.wpcon.mw_1000,qt_80.9c3e75.jpg.jpg',\n",
              " 'caiyilin908800.jpg.wpcon.mw_1000,qt_80.9c3e75.jpg.jpg',\n",
              " 'caiyilin908810.jpg.wpcon.mw_1000,qt_80.9c3e75.jpg.jpg',\n",
              " 'caiyilin908807.jpg.wpcon.mw_1000,qt_80.9c3e75.jpg.jpg',\n",
              " 'caiyilin908814.jpg.wpcon.mw_1000,qt_80.9c3e75.jpg.jpg',\n",
              " 'caiyilin908809.jpg.wpcon.mw_1000,qt_80.9c3e75.jpg.jpg',\n",
              " 'caiyilin908812.jpg.wpcon.mw_1000,qt_80.9c3e75.jpg.jpg',\n",
              " 'caiyilin908802.jpg.wpcon.mw_1000,qt_80.9c3e75.jpg.jpg',\n",
              " 'caiyilin908821.jpg.wpcon.mw_1000,qt_80.9c3e75.jpg.jpg',\n",
              " 'caiyilin908816.jpg.wpcon.mw_1000,qt_80.9c3e75.jpg.jpg',\n",
              " 'caiyilin908822.jpg.wpcon.mw_1000,qt_80.9c3e75.jpg.jpg',\n",
              " 'caiyilin908823.jpg.wpcon.mw_1000,qt_80.9c3e75.jpg.jpg',\n",
              " 'caiyilin908837.jpg.wpcon.mw_1000,qt_80.9c3e75.jpg.jpg',\n",
              " 'caiyilin908838.jpg.wpcon.mw_1000,qt_80.9c3e75.jpg.jpg',\n",
              " 'caiyilin908843.jpg.wpcon.mw_1000,qt_80.9c3e75.jpg.jpg',\n",
              " 'caiyilin908825.jpg.wpcon.mw_1000,qt_80.9c3e75.jpg.jpg',\n",
              " 'caiyilin908832.jpg.wpcon.mw_1000,qt_80.9c3e75.jpg.jpg',\n",
              " 'caiyilin908836.jpg.wpcon.mw_1000,qt_80.9c3e75.jpg.jpg',\n",
              " 'caiyilin908841.jpg.wpcon.mw_1000,qt_80.9c3e75.jpg.jpg',\n",
              " 'caiyilin908844.jpg.wpcon.mw_1000,qt_80.9c3e75.jpg.jpg',\n",
              " 'caiyilin908840.jpg.wpcon.mw_1000,qt_80.9c3e75.jpg.jpg',\n",
              " 'caiyilin908850.jpg.wpcon.mw_1000,qt_80.9c3e75.jpg.jpg',\n",
              " 'caiyilin908853.jpg.wpcon.mw_1000,qt_80.9c3e75.jpg.jpg',\n",
              " 'caiyilin908855.jpg.wpcon.mw_1000,qt_80.9c3e75.jpg.jpg',\n",
              " 'caiyilin908854.jpg.wpcon.mw_1000,qt_80.9c3e75.jpg.jpg',\n",
              " 'caiyilin908847.jpg.wpcon.mw_1000,qt_80.9c3e75.jpg.jpg',\n",
              " 'caiyilin908850.jpg.wpcon.mw_1000,qt_80.9c3e75.jpg (1).jpg',\n",
              " 'caiyilin908858.jpg.wpcon.mw_1000,qt_80.9c3e75.jpg.jpg',\n",
              " 'caiyilin908846.jpg.wpcon.mw_1000,qt_80.9c3e75.jpg.jpg',\n",
              " 'caiyilin908845.jpg.wpcon.mw_1000,qt_80.9c3e75.jpg.jpg',\n",
              " 'caiyilin908852.jpg.wpcon.mw_1000,qt_80.9c3e75.jpg.jpg',\n",
              " 'caiyilin908859.jpg.wpcon.mw_1000,qt_80.9c3e75.jpg.jpg',\n",
              " 'caiyilin908861.jpg.wpcon.mw_1000,qt_80.9c3e75.jpg.jpg',\n",
              " 'caiyilin908862.jpg.wpcon.mw_1000,qt_80.9c3e75.jpg.jpg',\n",
              " 'caiyilin908865.jpg.wpcon.mw_1000,qt_80.9c3e75.jpg.jpg',\n",
              " 'caiyilin908864.jpg.wpcon.mw_1000,qt_80.9c3e75.jpg.jpg',\n",
              " '.DS_Store']"
            ]
          },
          "metadata": {},
          "execution_count": 9
        }
      ]
    },
    {
      "cell_type": "markdown",
      "source": [
        "做成輸入 (data)、輸出 (target)。"
      ],
      "metadata": {
        "id": "1sKElK_YMYEN"
      }
    },
    {
      "cell_type": "code",
      "source": [
        "data = []\n",
        "target = []\n",
        "\n",
        "for i in range(10):\n",
        "  thedir = base_dir + star_folders[i]\n",
        "  star_fnames = os.listdir(thedir)\n",
        "  for star in star_fnames:\n",
        "    if star==\".DS_Store\":\n",
        "      continue\n",
        "    img = load_img(thedir + '/' + star, target_size = (256,256))\n",
        "    x = img_to_array(img)\n",
        "    data.append(x)\n",
        "    target.append(i)"
      ],
      "metadata": {
        "id": "jOm774w2Mgw2"
      },
      "execution_count": null,
      "outputs": []
    },
    {
      "cell_type": "markdown",
      "source": [
        "臉部特寫版的訓練資料轉換\n",
        "\n"
      ],
      "metadata": {
        "id": "PZa4lHgky2Zb"
      }
    },
    {
      "cell_type": "code",
      "source": [
        "# data = []\n",
        "# target = []\n",
        "# notebook_dir = '/content/drive/MyDrive/Colab Notebooks/'#要改成你存照片資料夾的路徑，不包含資料夾名稱\n",
        "# star_folders_capture = ['CAI,YI-LIN_capture', 'CHEN,JING-SYUAN_capture', 'GUO,SYUE-FU_capture','LIN,JHIH-LING_capture','LIN,SIN-RU_capture',\n",
        "#               'LIN,SIN-RU2_capture','LIN,YI-CHEN_capture','SHAO,YU-WEI_capture',\n",
        "#               'SYU,RUO-SYUAN_capture','SYU,SI-DI_capture','YANG,CHENG-LIN_capture']#改成你存照片的資料夾名稱\n",
        "\n",
        "# for i in range(11):\n",
        "#   savedir = notebook_dir + star_folders_capture[i]\n",
        "#   star_fnames = os.listdir(savedir)\n",
        "#   for star in star_fnames:\n",
        "#     if star==\".DS_Store\":\n",
        "#       continue\n",
        "#     img = load_img(savedir + '/' + star, target_size = (256,256))\n",
        "#     x = img_to_array(img)\n",
        "#     data.append(x)\n",
        "#     target.append(i)"
      ],
      "metadata": {
        "id": "6IapyIMEyxQn"
      },
      "execution_count": null,
      "outputs": []
    },
    {
      "cell_type": "code",
      "source": [
        "data = np.array(data)"
      ],
      "metadata": {
        "id": "qa5Tc6U2QMQR"
      },
      "execution_count": null,
      "outputs": []
    },
    {
      "cell_type": "code",
      "source": [
        "len(data)"
      ],
      "metadata": {
        "id": "aarUY--BNzwb",
        "outputId": "70471543-76ac-460c-94fc-d8a7d9331af7",
        "colab": {
          "base_uri": "https://localhost:8080/"
        }
      },
      "execution_count": null,
      "outputs": [
        {
          "output_type": "execute_result",
          "data": {
            "text/plain": [
              "3471"
            ]
          },
          "metadata": {},
          "execution_count": 13
        }
      ]
    },
    {
      "cell_type": "code",
      "metadata": {
        "colab": {
          "base_uri": "https://localhost:8080/",
          "height": 248
        },
        "id": "9R_pGP9xCexV",
        "outputId": "7d948f71-20fc-4d7e-8df9-a79293278eab"
      },
      "source": [
        "n=878\n",
        "plt.axis('off')\n",
        "plt.imshow(data[n]/255);"
      ],
      "execution_count": null,
      "outputs": [
        {
          "output_type": "display_data",
          "data": {
            "text/plain": [
              "<Figure size 432x288 with 1 Axes>"
            ],
            "image/png": "[encoded data removed]"
          },
          "metadata": {
            "needs_background": "light"
          }
        }
      ]
    },
    {
      "cell_type": "code",
      "metadata": {
        "id": "jtrScxfKCpef"
      },
      "source": [
        "x_train = preprocess_input(data)"
      ],
      "execution_count": null,
      "outputs": []
    },
    {
      "cell_type": "code",
      "metadata": {
        "colab": {
          "base_uri": "https://localhost:8080/",
          "height": 266
        },
        "id": "kSCa5vUXCzjz",
        "outputId": "dee29a7a-2bad-43d0-c48c-ee842c76d6f5"
      },
      "source": [
        "plt.axis('off')\n",
        "plt.imshow(x_train[n]);"
      ],
      "execution_count": null,
      "outputs": [
        {
          "output_type": "stream",
          "name": "stderr",
          "text": [
            "Clipping input data to the valid range for imshow with RGB data ([0..1] for floats or [0..255] for integers).\n"
          ]
        },
        {
          "output_type": "display_data",
          "data": {
            "text/plain": [
              "<Figure size 432x288 with 1 Axes>"
            ],
            "image/png": "[encoded data removed]"
          },
          "metadata": {
            "needs_background": "light"
          }
        }
      ]
    },
    {
      "cell_type": "markdown",
      "metadata": {
        "id": "fywaNEiiR_cU"
      },
      "source": [
        "一個答案就是 0到9 其中一個數字。"
      ]
    },
    {
      "cell_type": "code",
      "metadata": {
        "colab": {
          "base_uri": "https://localhost:8080/"
        },
        "id": "WaBi3UiTDcOT",
        "outputId": "d6447052-2d2c-4a77-c944-0dce7a28f918"
      },
      "source": [
        "target[n]"
      ],
      "execution_count": null,
      "outputs": [
        {
          "output_type": "execute_result",
          "data": {
            "text/plain": [
              "2"
            ]
          },
          "metadata": {},
          "execution_count": 17
        }
      ]
    },
    {
      "cell_type": "markdown",
      "metadata": {
        "id": "aDebxTjBZXaL"
      },
      "source": [
        "做 one-hot enconding。"
      ]
    },
    {
      "cell_type": "code",
      "metadata": {
        "id": "QrsNY2cNDfdN"
      },
      "source": [
        "y_train = to_categorical(target, 0)"
      ],
      "execution_count": null,
      "outputs": []
    },
    {
      "cell_type": "code",
      "metadata": {
        "colab": {
          "base_uri": "https://localhost:8080/"
        },
        "id": "zOXzdUngDlTk",
        "outputId": "9528e628-a837-45be-cbee-d1ff7b0b1bf5"
      },
      "source": [
        "y_train[n]"
      ],
      "execution_count": null,
      "outputs": [
        {
          "output_type": "execute_result",
          "data": {
            "text/plain": [
              "array([0., 0., 1., 0., 0., 0., 0., 0., 0., 0.], dtype=float32)"
            ]
          },
          "metadata": {},
          "execution_count": 19
        }
      ]
    },
    {
      "cell_type": "markdown",
      "metadata": {
        "id": "Sftnku6_7Feg"
      },
      "source": [
        "# 3. 用 ResNet50 打造我們的神經網路\n",
        "\n",
        "ResNet50 是 2015 ImageNet 的冠軍, 我們用第二版來試試。原本 ImageNet 是做了 1,000 個類別的圖形辨識。我們想直接用來辨識八哥, 就是把最後一層 (通常就 1,000 個輸出的 dense 層) 砍掉 (`include_top=False`), 然後換我們的就好。\n",
        "\n",
        "再來我們可以把每個 filter 的結果做個大總合, 例如算每個 filter 計分板的總平均 (global avg pooling), 這本來該我們自己做, 但是 `tf.Keras` 是善良無比的幫我們做好。只要下個參數 `pooling=\"avg\"`)。"
      ]
    },
    {
      "cell_type": "code",
      "metadata": {
        "id": "1k8c9Y9_AyfC"
      },
      "source": [
        "resnet = ResNet50V2(include_top=False, pooling=\"avg\")"
      ],
      "execution_count": null,
      "outputs": []
    },
    {
      "cell_type": "markdown",
      "metadata": {
        "id": "KWCOXJ_7T86s"
      },
      "source": [
        "我們是遷移式學習, 原本 ResNet 的部份我們當然沒有重新訓練的意思。於是就設這邊不需要訓練。"
      ]
    },
    {
      "cell_type": "code",
      "metadata": {
        "id": "N_D6muHJEFRw"
      },
      "source": [
        "resnet.trainable = False"
      ],
      "execution_count": null,
      "outputs": []
    },
    {
      "cell_type": "markdown",
      "metadata": {
        "id": "9dmUXgR-UPNg"
      },
      "source": [
        "再來就是正式打造我們遷移學習版的函數學習機! 可以發現我們只是加入了最後一層..."
      ]
    },
    {
      "cell_type": "code",
      "metadata": {
        "id": "2m6sfEs9A8xo"
      },
      "source": [
        "model = Sequential()"
      ],
      "execution_count": null,
      "outputs": []
    },
    {
      "cell_type": "code",
      "metadata": {
        "id": "tp8sxGYwBDwS"
      },
      "source": [
        "model.add(resnet)"
      ],
      "execution_count": null,
      "outputs": []
    },
    {
      "cell_type": "code",
      "metadata": {
        "id": "nchi5fV2BE7Q"
      },
      "source": [
        "model.add(Dense(10, activation='softmax'))"
      ],
      "execution_count": null,
      "outputs": []
    },
    {
      "cell_type": "markdown",
      "metadata": {
        "id": "vKCBLQ3VBIYW"
      },
      "source": [
        "#### 組裝我們的函數學習機"
      ]
    },
    {
      "cell_type": "code",
      "metadata": {
        "id": "NoltdpL6Ea64"
      },
      "source": [
        "model.compile(loss='categorical_crossentropy',\n",
        "              optimizer='adam',\n",
        "              metrics=['accuracy'])"
      ],
      "execution_count": null,
      "outputs": []
    },
    {
      "cell_type": "markdown",
      "metadata": {
        "id": "w25nPxjlVhGZ"
      },
      "source": [
        "#### 欣賞我們的神經網路"
      ]
    },
    {
      "cell_type": "code",
      "metadata": {
        "colab": {
          "base_uri": "https://localhost:8080/"
        },
        "id": "CY9y9C01BPVr",
        "outputId": "00863afe-0af2-4d89-cd3b-8e3d92b4c07d"
      },
      "source": [
        "model.summary()"
      ],
      "execution_count": null,
      "outputs": [
        {
          "output_type": "stream",
          "name": "stdout",
          "text": [
            "Model: \"sequential\"\n",
            "_________________________________________________________________\n",
            " Layer (type)                Output Shape              Param #   \n",
            "=================================================================\n",
            " resnet50v2 (Functional)     (None, 2048)              23564800  \n",
            "                                                                 \n",
            " dense (Dense)               (None, 10)                20490     \n",
            "                                                                 \n",
            "=================================================================\n",
            "Total params: 23,585,290\n",
            "Trainable params: 20,490\n",
            "Non-trainable params: 23,564,800\n",
            "_________________________________________________________________\n"
          ]
        }
      ]
    },
    {
      "cell_type": "markdown",
      "metadata": {
        "id": "erjRjf2pVqcg"
      },
      "source": [
        "結合ResNet並參考老師所賦予知方法做成，參數極多"
      ]
    },
    {
      "cell_type": "markdown",
      "metadata": {
        "id": "PL9rSPyOBQ1x"
      },
      "source": [
        "### 訓練 fit"
      ]
    },
    {
      "cell_type": "code",
      "metadata": {
        "id": "VzTw2kZVEQir",
        "colab": {
          "base_uri": "https://localhost:8080/",
          "height": 172
        },
        "outputId": "faf881fc-9604-4b89-d0cb-3a017d24e64f"
      },
      "source": [
        "model.fit(x_train, y_train, batch_size=500, epochs=50)"
      ],
      "execution_count": null,
      "outputs": [
        {
          "output_type": "error",
          "ename": "NameError",
          "evalue": "ignored",
          "traceback": [
            "\u001b[0;31m---------------------------------------------------------------------------\u001b[0m",
            "\u001b[0;31mNameError\u001b[0m                                 Traceback (most recent call last)",
            "\u001b[0;32m<ipython-input-1-6486dbf1d1ac>\u001b[0m in \u001b[0;36m<module>\u001b[0;34m()\u001b[0m\n\u001b[0;32m----> 1\u001b[0;31m \u001b[0mmodel\u001b[0m\u001b[0;34m.\u001b[0m\u001b[0mfit\u001b[0m\u001b[0;34m(\u001b[0m\u001b[0mx_train\u001b[0m\u001b[0;34m,\u001b[0m \u001b[0my_train\u001b[0m\u001b[0;34m,\u001b[0m \u001b[0mbatch_size\u001b[0m\u001b[0;34m=\u001b[0m\u001b[0;36m500\u001b[0m\u001b[0;34m,\u001b[0m \u001b[0mepochs\u001b[0m\u001b[0;34m=\u001b[0m\u001b[0;36m50\u001b[0m\u001b[0;34m)\u001b[0m\u001b[0;34m\u001b[0m\u001b[0;34m\u001b[0m\u001b[0m\n\u001b[0m",
            "\u001b[0;31mNameError\u001b[0m: name 'model' is not defined"
          ]
        }
      ]
    },
    {
      "cell_type": "markdown",
      "metadata": {
        "id": "u84Ar-MJLFg1"
      },
      "source": [
        "# 4. 用 `gradio` 打造明星辨識 web app!#"
      ]
    },
    {
      "cell_type": "code",
      "source": [
        "labels = [\"蔡依林\",\"陳敬宣\",\"郭雪芙\",\"林志玲\",\"林心如\",\"林依晨\",\"邵雨薇\",\"徐若瑄\",\"徐熙娣\",\"楊丞琳\"]"
      ],
      "metadata": {
        "id": "bsNp0q-Ie5Ez"
      },
      "execution_count": null,
      "outputs": []
    },
    {
      "cell_type": "code",
      "metadata": {
        "id": "21PbxPinGbGC"
      },
      "source": [
        "!pip install gradio"
      ],
      "execution_count": null,
      "outputs": []
    },
    {
      "cell_type": "code",
      "metadata": {
        "id": "wjlGkLUBGjik"
      },
      "source": [
        "import gradio as gr"
      ],
      "execution_count": null,
      "outputs": []
    },
    {
      "cell_type": "code",
      "metadata": {
        "id": "LneH4aAKGsef"
      },
      "source": [
        "def classify_image(inp):\n",
        "  inp = inp.reshape((-1, 256, 256, 3))\n",
        "  inp = preprocess_input(inp)\n",
        "  prediction = model.predict(inp).flatten()\n",
        "  return {labels[i]: float(prediction[i]) for i in range(10)}\n",
        "\n",
        "image = gr.inputs.Image(shape=(256, 256), label=\"明星照片\")\n",
        "label = gr.outputs.Label(num_top_classes=3, label=\"AI辨識結果\")"
      ],
      "execution_count": null,
      "outputs": []
    },
    {
      "cell_type": "code",
      "metadata": {
        "colab": {
          "base_uri": "https://localhost:8080/",
          "height": 715
        },
        "id": "M3eOTQqcHE6h",
        "outputId": "c0edb557-fba3-45c0-cab5-6f64e667bb6b"
      },
      "source": [
        "gr.Interface(fn=classify_image, inputs=image, outputs=label,\n",
        "             title=\"AI 明星辨識機\",\n",
        "             description=\"我能辨識台灣的十位明星:蔡依林,陳敬宣,郭雪芙,林志玲,林心如,林依晨,邵雨薇,徐若瑄,徐熙娣,楊丞琳。快找張照片來考我吧!\",\n",
        "             capture_session=True).launch(debug=True)"
      ],
      "execution_count": null,
      "outputs": [
        {
          "output_type": "stream",
          "name": "stderr",
          "text": [
            "/usr/local/lib/python3.7/dist-packages/gradio/interface.py:248: UserWarning: The `capture_session` parameter in the `Interface` is deprecated and may be removed in the future.\n",
            "  \"The `capture_session` parameter in the `Interface`\"\n"
          ]
        },
        {
          "output_type": "stream",
          "name": "stdout",
          "text": [
            "Colab notebook detected. This cell will run indefinitely so that you can see errors and logs. To turn off, set debug=False in launch().\n",
            "Running on public URL: https://19127.gradio.app\n",
            "\n",
            "This share link expires in 72 hours. For free permanent hosting, check out Spaces (https://huggingface.co/spaces)\n"
          ]
        },
        {
          "output_type": "display_data",
          "data": {
            "text/plain": [
              "<IPython.lib.display.IFrame at 0x7fbf1207b550>"
            ],
            "text/html": [
              "\n",
              "        <iframe\n",
              "            width=\"900\"\n",
              "            height=\"500\"\n",
              "            src=\"https://19127.gradio.app\"\n",
              "            frameborder=\"0\"\n",
              "            allowfullscreen\n",
              "        ></iframe>\n",
              "        "
            ]
          },
          "metadata": {}
        },
        {
          "output_type": "stream",
          "name": "stdout",
          "text": [
            "Keyboard interruption in main thread... closing server.\n"
          ]
        },
        {
          "output_type": "execute_result",
          "data": {
            "text/plain": [
              "(<fastapi.applications.FastAPI at 0x7fbf1623e2d0>,\n",
              " 'http://127.0.0.1:7860/',\n",
              " 'https://19127.gradio.app')"
            ]
          },
          "metadata": {},
          "execution_count": 22
        }
      ]
    },
    {
      "cell_type": "markdown",
      "source": [
        "####使用deepface套件的版本"
      ],
      "metadata": {
        "id": "Is9ETLM3Iijn"
      }
    },
    {
      "cell_type": "code",
      "source": [
        "pip install deepface"
      ],
      "metadata": {
        "id": "wIZiuQRDMK0z"
      },
      "execution_count": null,
      "outputs": []
    },
    {
      "cell_type": "code",
      "source": [
        "!wget --no-check-certificate \\\n",
        "    https://github.com/Bo-An-Chen/StarFaceRecognition/raw/main/deepface_database.zip \\\n",
        "    -O /content/deepface_database.zip"
      ],
      "metadata": {
        "id": "BWeH7ol50Rje"
      },
      "execution_count": null,
      "outputs": []
    },
    {
      "cell_type": "code",
      "source": [
        "import os\n",
        "import zipfile\n",
        "\n",
        "local_zip = '/content/deepface_database.zip'\n",
        "zip_ref = zipfile.ZipFile(local_zip, 'r')\n",
        "zip_ref.extractall('/content')\n",
        "zip_ref.close()"
      ],
      "metadata": {
        "id": "A0jGKF-y15eS"
      },
      "execution_count": null,
      "outputs": []
    },
    {
      "cell_type": "code",
      "source": [
        "from deepface import DeepFace\n",
        "import pandas as pd\n",
        "import numpy as np\n",
        "import cv2\n",
        "from google.colab.patches import cv2_imshow\n",
        "from PIL import Image\n",
        "import matplotlib.pyplot as plt\n",
        "# labels = [\"蔡依林\",\"陳敬宣\",\"郭雪芙\",\"林志玲\",\"林心如\",\"林依晨\",\"邵雨薇\",\"徐若瑄\",\"徐熙娣\",\"楊丞琳\"]\n",
        "names = {\"/content/deepface_database/CAI,YI-LIN65.jpg\":\"蔡依林\",\n",
        "         \"/content/deepface_database/CHEN,JING-SYUAN96.jpg\":\"陳敬宣\",\n",
        "         \"/content/deepface_database/GUO,SYUE-FU36.jpg\":\"郭雪芙\",\"/content/deepface_database/LIN,JHIH-LING65.jpg\":\"林志玲\",\n",
        "         \"/content/deepface_database/LIN,SIN-RU217.jpg\":\"林心如\",\n",
        "         \"/content/deepface_database/LIN,YI-CHEN36.jpg\":\"林依晨\",\n",
        "         \"/content/deepface_database/SHAO,YU-WEI102.jpg\":\"邵雨薇\",\n",
        "         \"/content/deepface_database/SYU,RUO-SYUAN14.jpg\":\"徐若瑄\",\n",
        "         \"/content/deepface_database/SYU,SI-DI119.jpg\":\"徐熙娣\",\n",
        "         \"/content/deepface_database/YANG,CHENG-LIN100.jpg\":\"楊丞琳\"}\n",
        "def classify_image(inp):\n",
        "  plt.axis('off')\n",
        "  plt.imshow(inp)\n",
        "  plt.imsave(\"input001.jpg\", inp, format='jpg')\n",
        "  img = cv2.imread('input001.jpg')\n",
        "  dst = cv2.resize(img,(225,225))\n",
        "  cv2.imwrite('resize.jpg', dst)\n",
        "  df = DeepFace.find(img_path=\"resize.jpg\", db_path = \"/content/deepface_database\",\n",
        "                   enforce_detection=False, detector_backend='retinaface')\n",
        "  prediction = {}\n",
        "  for i in range(3):\n",
        "    name = names[df.at[i, \"identity\"]]\n",
        "    cosine = float(df.at[i, \"VGG-Face_cosine\"])\n",
        "    ReverseOrder = (cosine)*(-1)\n",
        "    Activation = 100**(ReverseOrder)\n",
        "    prediction[name] = Activation\n",
        "  return prediction\n",
        "image = gr.inputs.Image(shape=(256, 256), label=\"明星照片\")\n",
        "label = gr.outputs.Label(num_top_classes=3, label=\"AI辨識結果\")"
      ],
      "metadata": {
        "id": "kYnywbCwFMt8"
      },
      "execution_count": null,
      "outputs": []
    },
    {
      "cell_type": "code",
      "source": [
        "gr.Interface(fn=classify_image, inputs=image, outputs=label,\n",
        "              title=\"AI 明星辨識機\",\n",
        "             description=\"我能辨識台灣的十位明星:蔡依林,陳敬宣,郭雪芙,林志玲,林心如,林依晨,邵雨薇,徐若瑄,徐熙娣,楊丞琳。快找張照片來考我吧!\",\n",
        "             capture_session=True).launch(debug=True)"
      ],
      "metadata": {
        "id": "I5Dmw6_UPofo"
      },
      "execution_count": null,
      "outputs": []
    },
    {
      "cell_type": "markdown",
      "source": [
        "# 5. 存檔"
      ],
      "metadata": {
        "id": "pi9-G-ni93cK"
      }
    },
    {
      "cell_type": "code",
      "source": [
        "#存檔用\n",
        "from google.colab import drive\n",
        "import os\n",
        "drive.mount('/content/drive')\n",
        "path=\"/content/drive/MyDrive/Colab Notebooks\"#複製好你要存的路徑貼過來\n",
        "os.chdir(path)\n",
        "model_json = model.to_json()\n",
        "open('明星辨識_model_architecture_0511_0.7330.json', 'w').write(model_json)#檔名要改\n",
        "model.save_weights('明星辨識_model_weights_0511_0.7330.h5')#檔名要改\n",
        "\n",
        "path=\"/content\"\n",
        "os.chdir(path)"
      ],
      "metadata": {
        "colab": {
          "base_uri": "https://localhost:8080/"
        },
        "id": "C0HMVdLozcnY",
        "outputId": "c61b8212-f638-43af-e464-18dfff5f8b2f"
      },
      "execution_count": null,
      "outputs": [
        {
          "output_type": "stream",
          "name": "stdout",
          "text": [
            "Drive already mounted at /content/drive; to attempt to forcibly remount, call drive.mount(\"/content/drive\", force_remount=True).\n"
          ]
        }
      ]
    },
    {
      "cell_type": "markdown",
      "source": [
        "讀檔"
      ],
      "metadata": {
        "id": "3buLH3ph9F70"
      }
    },
    {
      "cell_type": "code",
      "source": [
        "import os\n",
        "from tensorflow.keras.applications.resnet_v2 import preprocess_input\n",
        "from google.colab import drive\n",
        "drive.mount('/content/drive')\n",
        "path=\"/content/drive/MyDrive/Colab Notebooks\"#你存檔的路徑貼過來\n",
        "os.chdir(path)"
      ],
      "metadata": {
        "id": "IWrOk-uLAjcT",
        "colab": {
          "base_uri": "https://localhost:8080/"
        },
        "outputId": "01f17fe3-6dd7-48cf-a0bc-15a3ae364344"
      },
      "execution_count": null,
      "outputs": [
        {
          "output_type": "stream",
          "name": "stdout",
          "text": [
            "Drive already mounted at /content/drive; to attempt to forcibly remount, call drive.mount(\"/content/drive\", force_remount=True).\n"
          ]
        }
      ]
    },
    {
      "cell_type": "code",
      "metadata": {
        "id": "-AghtUi3V8xB"
      },
      "source": [
        "import tensorflow as tf\n",
        "import pickle\n",
        "\n",
        "from tensorflow.keras.models import load_model, model_from_json\n",
        "f = open('明星辨識_model_architecture_0514_0.7127_retina-face.json')\n",
        "loaded_model = f.read()\n",
        "f.close()\n",
        "\n",
        "model = model_from_json(loaded_model)\n",
        "\n",
        "model.load_weights('明星辨識_model_weights_0514_0.7127_retina-face.h5')\n",
        "path=\"/content\"\n",
        "os.chdir(path)"
      ],
      "execution_count": null,
      "outputs": []
    }
  ]
}